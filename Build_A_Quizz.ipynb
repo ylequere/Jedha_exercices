{
 "cells": [
  {
   "cell_type": "code",
   "execution_count": null,
   "id": "9906640d",
   "metadata": {},
   "outputs": [],
   "source": [
    "def answer_a_question(question, answer, lives):\n",
    "\n",
    "    good_answer = False\n",
    "    while (not good_answer) and (lives > 0):\n",
    "        user_answer = input(question)\n",
    "        # print(\"Your answer :\", user_answer)\n",
    "        \n",
    "        if user_answer.lower() != user_answer:\n",
    "            print('Your answer after .lower() function :', user_answer.lower())\n",
    "            \n",
    "        if answer  == user_answer.lower():\n",
    "            good_answer = True\n",
    "            print(f'Congrats {answer} is the right answer !')\n",
    "        else:\n",
    "            lives -= 1\n",
    "            print(lives)\n",
    "            print(f'Sorry, you have {lives} chances left')\n",
    "    return lives\n",
    "        \n",
    "questions_answers= {\"What is my birthday year ? \" : \"1971\",\n",
    "                    \"How many children do I have ? \" : \"2\",\n",
    "                    \"Who is the richest man in the world ? \": \"elon musk\"\n",
    "                    }\n",
    "\n",
    "user_lives = 3\n",
    "print(f'Welcome to our quizz!\\nYou have {user_lives} lives.')\n",
    "\n",
    "for i, qa in enumerate(questions_answers.items()):\n",
    "    print(f'\\nQuestion {i+1}')\n",
    "    user_lives = answer_a_question(qa[0], qa[1], user_lives)\n",
    "    if user_lives == 0:\n",
    "        print (\"Too bad, you lost the game !\")\n",
    "        break\n",
    "\n",
    "if user_lives > 0:\n",
    "    print('Well done! You are the quizz winner!')\n",
    " "
   ]
  }
 ],
 "metadata": {
  "kernelspec": {
   "display_name": "Python 3 (ipykernel)",
   "language": "python",
   "name": "python3"
  },
  "language_info": {
   "codemirror_mode": {
    "name": "ipython",
    "version": 3
   },
   "file_extension": ".py",
   "mimetype": "text/x-python",
   "name": "python",
   "nbconvert_exporter": "python",
   "pygments_lexer": "ipython3",
   "version": "3.10.7"
  }
 },
 "nbformat": 4,
 "nbformat_minor": 5
}
